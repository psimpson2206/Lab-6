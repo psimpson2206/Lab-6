{
 "cells": [
  {
   "cell_type": "markdown",
   "id": "ebc7834f-f0e9-4539-8686-5704fc042704",
   "metadata": {},
   "source": [
    "# Our Program\n",
    "#### Rowan Morse & Patrick Simpson\n",
    "1. Asks for user name.\n",
    "2. Asks for users favorite color.\n",
    "3. Then prints what their favorite color is. "
   ]
  },
  {
   "cell_type": "code",
   "execution_count": null,
   "id": "5abd321d-b325-4532-875d-52dc2a89d0a9",
   "metadata": {},
   "outputs": [],
   "source": [
    "name = input('What is your name?') \n",
    "color = input ('What is your favorite color?')\n",
    "print(f'{name}\\'s favorite color is {color}.') "
   ]
  }
 ],
 "metadata": {
  "kernelspec": {
   "display_name": "Python 3 (ipykernel)",
   "language": "python",
   "name": "python3"
  },
  "language_info": {
   "codemirror_mode": {
    "name": "ipython",
    "version": 3
   },
   "file_extension": ".py",
   "mimetype": "text/x-python",
   "name": "python",
   "nbconvert_exporter": "python",
   "pygments_lexer": "ipython3",
   "version": "3.12.4"
  }
 },
 "nbformat": 4,
 "nbformat_minor": 5
}
